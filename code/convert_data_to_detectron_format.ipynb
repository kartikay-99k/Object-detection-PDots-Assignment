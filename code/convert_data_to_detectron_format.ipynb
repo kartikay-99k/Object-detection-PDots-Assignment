{
 "cells": [
  {
   "cell_type": "code",
   "execution_count": 1,
   "metadata": {},
   "outputs": [
    {
     "data": {
      "text/plain": [
       "(224, 56)"
      ]
     },
     "execution_count": 1,
     "metadata": {},
     "output_type": "execute_result"
    }
   ],
   "source": [
    "import os\n",
    "train = []\n",
    "for i in os.listdir('final_dataset/train'):\n",
    "    if not i.endswith(('xml')):\n",
    "        train.append(os.path.splitext(i)[0]+'\\n')\n",
    "        \n",
    "val = []\n",
    "for i in os.listdir('final_dataset/val'):\n",
    "    if not i.endswith(('xml')):\n",
    "        val.append(os.path.splitext(i)[0]+'\\n')\n",
    "        \n",
    "len(train), len(val)"
   ]
  },
  {
   "cell_type": "code",
   "execution_count": 2,
   "metadata": {},
   "outputs": [],
   "source": [
    "with open('train.txt', 'w') as f:\n",
    "    for i in train:\n",
    "        f.write(i)\n",
    "    f.close()"
   ]
  },
  {
   "cell_type": "code",
   "execution_count": 3,
   "metadata": {},
   "outputs": [],
   "source": [
    "with open('valid.txt', 'w') as f:\n",
    "    for i in val:\n",
    "        f.write(i)\n",
    "    f.close()"
   ]
  },
  {
   "cell_type": "markdown",
   "metadata": {},
   "source": [
    "### Convert data to coco format"
   ]
  },
  {
   "cell_type": "code",
   "execution_count": 7,
   "metadata": {},
   "outputs": [
    {
     "name": "stdout",
     "output_type": "stream",
     "text": [
      "Start converting !\n"
     ]
    },
    {
     "name": "stderr",
     "output_type": "stream",
     "text": [
      "\n",
      "  0%|          | 0/224 [00:00<?, ?it/s]\n",
      " 61%|######1   | 137/224 [00:00<00:00, 1356.96it/s]\n",
      "100%|##########| 224/224 [00:00<00:00, 1261.88it/s]\n"
     ]
    }
   ],
   "source": [
    "!python voc2coco/voc2coco.py \\\n",
    "    --ann_dir final_dataset/train \\\n",
    "    --ann_ids train.txt \\\n",
    "    --labels labels.txt \\\n",
    "    --output train.json \\\n",
    "    --ext xml"
   ]
  },
  {
   "cell_type": "code",
   "execution_count": 8,
   "metadata": {},
   "outputs": [
    {
     "name": "stdout",
     "output_type": "stream",
     "text": [
      "Start converting !"
     ]
    },
    {
     "name": "stderr",
     "output_type": "stream",
     "text": [
      "\n",
      "  0%|          | 0/56 [00:00<?, ?it/s]\n",
      "100%|##########| 56/56 [00:00<00:00, 1412.85it/s]\n"
     ]
    },
    {
     "name": "stdout",
     "output_type": "stream",
     "text": [
      "\n"
     ]
    }
   ],
   "source": [
    "!python voc2coco/voc2coco.py \\\n",
    "    --ann_dir final_dataset/val \\\n",
    "    --ann_ids valid.txt \\\n",
    "    --labels labels.txt \\\n",
    "    --output valid.json \\\n",
    "    --ext xml"
   ]
  },
  {
   "cell_type": "code",
   "execution_count": null,
   "metadata": {},
   "outputs": [],
   "source": []
  }
 ],
 "metadata": {
  "kernelspec": {
   "display_name": "Python 3 (ipykernel)",
   "language": "python",
   "name": "python3"
  },
  "language_info": {
   "codemirror_mode": {
    "name": "ipython",
    "version": 3
   },
   "file_extension": ".py",
   "mimetype": "text/x-python",
   "name": "python",
   "nbconvert_exporter": "python",
   "pygments_lexer": "ipython3",
   "version": "3.10.8"
  }
 },
 "nbformat": 4,
 "nbformat_minor": 4
}
